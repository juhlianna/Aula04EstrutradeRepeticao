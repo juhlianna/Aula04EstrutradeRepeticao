{
  "nbformat": 4,
  "nbformat_minor": 0,
  "metadata": {
    "colab": {
      "name": "Aula04EstruturadeRepetição.ipynb",
      "provenance": [],
      "authorship_tag": "ABX9TyNVwA6tytZ1JtzX3gYYYP/D",
      "include_colab_link": true
    },
    "kernelspec": {
      "name": "python3",
      "display_name": "Python 3"
    },
    "language_info": {
      "name": "python"
    }
  },
  "cells": [
    {
      "cell_type": "markdown",
      "metadata": {
        "id": "view-in-github",
        "colab_type": "text"
      },
      "source": [
        "<a href=\"https://colab.research.google.com/github/juhlianna/Aula04EstrutradeRepeticao/blob/main/Aula04EstruturadeRepeti%C3%A7%C3%A3o.ipynb\" target=\"_parent\"><img src=\"https://colab.research.google.com/assets/colab-badge.svg\" alt=\"Open In Colab\"/></a>"
      ]
    },
    {
      "cell_type": "markdown",
      "source": [
        "# Estrutura de Repetição"
      ],
      "metadata": {
        "id": "f48IK-9KlW1w"
      }
    },
    {
      "cell_type": "code",
      "execution_count": null,
      "metadata": {
        "id": "7pRXYNwEfYB-"
      },
      "outputs": [],
      "source": [
        "x = 1\n",
        "print(x)\n",
        "x = x + 1\n",
        "print(x)\n",
        "x = x + 1\n",
        "print(x)\n",
        "x = x + 1\n",
        "print(x)\n",
        "x = x + 1\n",
        "print(x)\n"
      ]
    },
    {
      "cell_type": "markdown",
      "source": [
        "# Estrutura de Repetição While (Enquanto)"
      ],
      "metadata": {
        "id": "lKNJl_-Lltxu"
      }
    },
    {
      "cell_type": "code",
      "source": [
        "x = 1\n",
        "while (x <= 5):\n",
        "    print(x)\n",
        "    x = x + 1"
      ],
      "metadata": {
        "colab": {
          "base_uri": "https://localhost:8080/"
        },
        "id": "KTViDekUl59s",
        "outputId": "d2ebcf68-800a-4088-ddce-bc6e6c1959a9"
      },
      "execution_count": null,
      "outputs": [
        {
          "output_type": "stream",
          "name": "stdout",
          "text": [
            "1\n",
            "2\n",
            "3\n",
            "4\n",
            "5\n"
          ]
        }
      ]
    },
    {
      "cell_type": "code",
      "source": [
        "x = 1\n",
        "while (x <= 5):\n",
        "    print(x)\n",
        "   # x = x + 1 (Evitar esse incremento pois ficará infinito)"
      ],
      "metadata": {
        "id": "bZpBhZq3mESM"
      },
      "execution_count": null,
      "outputs": []
    },
    {
      "cell_type": "markdown",
      "source": [
        "# Contadores"
      ],
      "metadata": {
        "id": "aWc36earnxnw"
      }
    },
    {
      "cell_type": "code",
      "source": [
        "# Escreva um algoritmo que imprima na tela somente valores dentro de um intervalo especificado pelo usuário e que sejam número pares.\n",
        "\n",
        "inicial = int(input(\"Qual valor deseja iniciar a contagem? \"))\n",
        "final = int(input(\"Qual valor deseja encerrar a contagem? \"))\n",
        "x = inicial\n",
        "while (x <= final):\n",
        "    if (x % 2 == 0):\n",
        "        print(x)\n",
        "        x = x + 1"
      ],
      "metadata": {
        "id": "2pbJFwhVqWK6"
      },
      "execution_count": null,
      "outputs": []
    },
    {
      "cell_type": "markdown",
      "source": [
        "# Acumuladores"
      ],
      "metadata": {
        "id": "kb6JfZh9p3Bj"
      }
    },
    {
      "cell_type": "code",
      "source": [
        "# Escreva um algoritmo que calcule a sua média de notas em determinada disciplina.\n",
        "# Vamos assumir que a média final é dada pela média aritmética de cinco notas digitadas.\n",
        "\n",
        "soma = 0\n",
        "cont = 1\n",
        "while (cont <= 5):\n",
        "    x = float(input(\"Digite a {}ª nota: \".format(cont)))\n",
        "    soma = soma + x\n",
        "    cont = cont + 1\n",
        "media = soma / 5\n",
        "print(\"Média final: {}\".format(media))"
      ],
      "metadata": {
        "id": "Nus6bIP0p_vC"
      },
      "execution_count": null,
      "outputs": []
    },
    {
      "cell_type": "markdown",
      "source": [
        "# CARACTERÍSTICAS E RECURSOS AVANÇADOS DE LAÇOS EM PYTHON"
      ],
      "metadata": {
        "id": "BIUyrUNVE4Ud"
      }
    },
    {
      "cell_type": "markdown",
      "source": [
        "# Operadores especiais de atribuição"
      ],
      "metadata": {
        "id": "_7vClbppFPmL"
      }
    },
    {
      "cell_type": "code",
      "source": [
        "soma = 0\n",
        "cont = 1\n",
        "while (cont <= 5):\n",
        "    x = int(input(\"Digite o {}º número:\".format(cont)))\n",
        "    soma += x # Equivalente: soma = soma + x\n",
        "    cont += 1 # Equivalente: cont = cont + 1\n",
        "print(\"Somatório: {}\".format(soma))     "
      ],
      "metadata": {
        "id": "hSUm0vHIE5-t",
        "colab": {
          "base_uri": "https://localhost:8080/"
        },
        "outputId": "5111b534-9267-40df-c271-5cfbb2a29477"
      },
      "execution_count": 3,
      "outputs": [
        {
          "output_type": "stream",
          "name": "stdout",
          "text": [
            "Digite o 1º número:5\n",
            "Digite o 2º número:6\n",
            "Digite o 3º número:8\n",
            "Digite o 4º número:9\n",
            "Digite o 5º número:10\n",
            "Somatório: 38\n"
          ]
        }
      ]
    },
    {
      "cell_type": "markdown",
      "source": [
        "# Validando dados de entrada com um loop"
      ],
      "metadata": {
        "id": "9PGyk5ihGLKR"
      }
    },
    {
      "cell_type": "markdown",
      "source": [
        "Crie um algoritmo que receba um valor do tipo inteiro via teclado.\n",
        "No entanto, o programa só deve aceitar, obrigatoriamente, valores inteiros e positivos.\n",
        "Qualquer valor negativo, ou igual a zero, deve ser rejeitado pelo programa e um novo valor deve ser solicitado."
      ],
      "metadata": {
        "id": "Wh48--6Uf-fA"
      }
    },
    {
      "cell_type": "code",
      "source": [
        "# Validando a entrada\n",
        "x = int(input(\"Digite um valor maior do que zero: \"))\n",
        "while (x <= 0):\n",
        "    x = int(input(\"Digite um valor maior do que zero: \"))\n",
        "print(\"Você digitou {}. Encerrando o programa...\".format(x))"
      ],
      "metadata": {
        "id": "sAGlQSM3GO94",
        "colab": {
          "base_uri": "https://localhost:8080/"
        },
        "outputId": "a859ae2a-9f84-49d5-d8ac-c933991bfda5"
      },
      "execution_count": 5,
      "outputs": [
        {
          "output_type": "stream",
          "name": "stdout",
          "text": [
            "Digite um valor maior do que zero: 2\n",
            "Você digitou 2. Encerrando o programa...\n"
          ]
        }
      ]
    },
    {
      "cell_type": "markdown",
      "source": [
        "# Interrompendo um loop com break"
      ],
      "metadata": {
        "id": "RyzY4GWPhLdc"
      }
    },
    {
      "cell_type": "markdown",
      "source": [
        "Escreva um algoritmo que fique recebendo frases ou palavras digitadas pelo usuário.\n",
        "Encerre o algoritmo quando a palavra sair for digitada."
      ],
      "metadata": {
        "id": "JZypScJBgdkw"
      }
    },
    {
      "cell_type": "code",
      "source": [
        "print(\"Digite uma mensagem que irei repetir para você!\")\n",
        "print(\"Para encerrar escreva 'sair' . \")\n",
        "while True:\n",
        "    texto = input('')\n",
        "    print(texto)\n",
        "    if texto == 'sair':\n",
        "        break\n",
        "print(\"Encerrando o programa...\") \n"
      ],
      "metadata": {
        "colab": {
          "base_uri": "https://localhost:8080/"
        },
        "id": "uk12GOZChEj2",
        "outputId": "3a283f6d-6146-4b77-dc39-b455e1379c8b"
      },
      "execution_count": 6,
      "outputs": [
        {
          "output_type": "stream",
          "name": "stdout",
          "text": [
            "Digite uma mensagem que irei repetir para você!\n",
            "Para encerrar escreva 'sair' . \n",
            "Começar\n",
            "Começar\n",
            "Terminar\n",
            "Terminar\n",
            "sair\n",
            "sair\n",
            "Encerrando o programa...\n"
          ]
        }
      ]
    },
    {
      "cell_type": "markdown",
      "source": [
        "# Voltando ao inicio do laço com continue"
      ],
      "metadata": {
        "id": "_ZtlpCg4pqfU"
      }
    },
    {
      "cell_type": "markdown",
      "source": [
        "Escreva um algoritmo que realize um login em um sistema.\n",
        "O usuário deve informar seu nome e senha."
      ],
      "metadata": {
        "id": "GC3Aa2dgpWTN"
      }
    },
    {
      "cell_type": "code",
      "source": [
        "while True:\n",
        "    nome = input('Qual o seu nome? ')\n",
        "    if (nome != 'Lenhadorzinho'):\n",
        "        continue\n",
        "    senha = input('Qual a sua senha? ')\n",
        "    if (senha == 'Uninter'):\n",
        "        break\n",
        "print('Acesso concedido!')"
      ],
      "metadata": {
        "colab": {
          "base_uri": "https://localhost:8080/"
        },
        "id": "AN0zSHuIpfgV",
        "outputId": "cc66ce38-f922-4587-9852-57ec779e21fb"
      },
      "execution_count": 7,
      "outputs": [
        {
          "output_type": "stream",
          "name": "stdout",
          "text": [
            "Qual o seu nome? Juliana\n",
            "Qual o seu nome? Lenhadorzinho\n",
            "Qual a sua senha? Uninter\n",
            "Acesso concedido!\n"
          ]
        }
      ]
    },
    {
      "cell_type": "markdown",
      "source": [
        "# Valores Truthy e Falsey"
      ],
      "metadata": {
        "id": "Szxa3IUErCkB"
      }
    },
    {
      "cell_type": "markdown",
      "source": [
        "Dados não booleanos também podem ser tratados como True ou False em uma condição, seja esta de uma estrutura condicionada ou de um laço.\n",
        "Falsey / False\n",
        "Número zero (int ou float) e string vazia\n",
        "Truthy / True\n",
        "Qualquer outro dado"
      ],
      "metadata": {
        "id": "RunXvpzJrI8Y"
      }
    },
    {
      "cell_type": "code",
      "source": [
        "nome = ''\n",
        "while not nome:\n",
        "    nome = input('Digite seu nome: ')\n",
        "valor = int(input('Digite um número qualquer: '))\n",
        "if valor:\n",
        "    print('Você digitou um valor diferente de zero.')\n",
        "else:\n",
        "    print('Você digitou zero.')"
      ],
      "metadata": {
        "colab": {
          "base_uri": "https://localhost:8080/"
        },
        "id": "gJFD0UwLrebY",
        "outputId": "0a3bfcdb-bee4-4400-8d25-9104907170c4"
      },
      "execution_count": 8,
      "outputs": [
        {
          "output_type": "stream",
          "name": "stdout",
          "text": [
            "Digite seu nome: Juliana\n",
            "Digite um número qualquer: 15\n",
            "Você digitou um valor diferente de zero.\n"
          ]
        }
      ]
    },
    {
      "cell_type": "markdown",
      "source": [
        "# Estrutura de repetição for (para)"
      ],
      "metadata": {
        "id": "RsCwy1GmxT6H"
      }
    },
    {
      "cell_type": "markdown",
      "source": [
        "Assim como o while, essa estrutura repete um bloco de instruções enquanto uma condição se mantiver verdadeira.\n",
        "No entanto, diferentemente do while, o for é empregado em situações em que o número de vezes que o laço irá executar é finito e bem definido."
      ],
      "metadata": {
        "id": "Ac8K9QV-xcFG"
      }
    },
    {
      "cell_type": "code",
      "source": [
        "for i in range(6):\n",
        "    print(i)"
      ],
      "metadata": {
        "colab": {
          "base_uri": "https://localhost:8080/"
        },
        "id": "Kl905hb0xzz1",
        "outputId": "69f89ae0-f47f-48a3-b65a-7bb951bff2c1"
      },
      "execution_count": 10,
      "outputs": [
        {
          "output_type": "stream",
          "name": "stdout",
          "text": [
            "0\n",
            "1\n",
            "2\n",
            "3\n",
            "4\n",
            "5\n"
          ]
        }
      ]
    },
    {
      "cell_type": "code",
      "source": [
        "for i in range(1,6,1):\n",
        "    print(i)"
      ],
      "metadata": {
        "colab": {
          "base_uri": "https://localhost:8080/"
        },
        "id": "uWWhp9layaJ0",
        "outputId": "3099fcc3-3b20-4edf-dd2f-4461b10d33d2"
      },
      "execution_count": 1,
      "outputs": [
        {
          "output_type": "stream",
          "name": "stdout",
          "text": [
            "1\n",
            "2\n",
            "3\n",
            "4\n",
            "5\n"
          ]
        }
      ]
    },
    {
      "cell_type": "code",
      "source": [
        "for i in range(10,0,-2):\n",
        "    print(i)"
      ],
      "metadata": {
        "colab": {
          "base_uri": "https://localhost:8080/"
        },
        "id": "9YxBJEv9kfp0",
        "outputId": "031ce0e5-4516-4677-80c4-1eece15556ff"
      },
      "execution_count": 2,
      "outputs": [
        {
          "output_type": "stream",
          "name": "stdout",
          "text": [
            "10\n",
            "8\n",
            "6\n",
            "4\n",
            "2\n"
          ]
        }
      ]
    },
    {
      "cell_type": "markdown",
      "source": [
        "# Exercícios"
      ],
      "metadata": {
        "id": "8r0HVd7DlB3a"
      }
    },
    {
      "cell_type": "markdown",
      "source": [
        "Escreva um algoritmo que calcule a média dos números pares de 1 até 100 (1 e 100 inclusos). Implemente o laço usando for"
      ],
      "metadata": {
        "id": "6G-UI4HvlEJj"
      }
    },
    {
      "cell_type": "code",
      "source": [
        "soma = 0\n",
        "qtd = 0\n",
        "for i in range(1,101):\n",
        "    if (i % 2 == 0):\n",
        "        soma += i\n",
        "        qtd += 1\n",
        "media = soma / qtd\n",
        "print('A média dos pares de 1 até 100 é: {}'.format(media))\n"
      ],
      "metadata": {
        "colab": {
          "base_uri": "https://localhost:8080/"
        },
        "id": "mbleExYClRUy",
        "outputId": "ebdd3e63-8c11-4e5e-9ab7-5675b30b682b"
      },
      "execution_count": 3,
      "outputs": [
        {
          "output_type": "stream",
          "name": "stdout",
          "text": [
            "A média dos pares de 1 até 100 é: 51.0\n"
          ]
        }
      ]
    },
    {
      "cell_type": "markdown",
      "source": [
        "# Estrutura de Repetição Aninhadas"
      ],
      "metadata": {
        "id": "E5Nmh4ZbmEp6"
      }
    },
    {
      "cell_type": "markdown",
      "source": [
        "Escreva um algoritmo em Python que calcula a tabuada de todos os números de 1 até 10, e, para cada número, vamos calcular a tabuada multiplicando-o pelo intervalo de 1 até 10."
      ],
      "metadata": {
        "id": "IrPzDaBPmsHn"
      }
    },
    {
      "cell_type": "code",
      "source": [
        "# resolvendo com 2 while\n",
        "tabuada = 1\n",
        "while tabuada <= 10:\n",
        "    print('Tabuada do {}'.format(tabuada))\n",
        "    i = 1\n",
        "    while i <= 10:\n",
        "        print('{} x {} = {}'.format(tabuada, i, tabuada * i))\n",
        "        i += 1\n",
        "    tabuada += 1"
      ],
      "metadata": {
        "colab": {
          "base_uri": "https://localhost:8080/"
        },
        "id": "tNJ19m_smLhY",
        "outputId": "f9c35e0e-65e7-4a31-bd68-5b172ccbd20e"
      },
      "execution_count": 4,
      "outputs": [
        {
          "output_type": "stream",
          "name": "stdout",
          "text": [
            "Tabuada do 1\n",
            "1 x 1 = 1\n",
            "1 x 2 = 2\n",
            "1 x 3 = 3\n",
            "1 x 4 = 4\n",
            "1 x 5 = 5\n",
            "1 x 6 = 6\n",
            "1 x 7 = 7\n",
            "1 x 8 = 8\n",
            "1 x 9 = 9\n",
            "1 x 10 = 10\n",
            "Tabuada do 2\n",
            "2 x 1 = 2\n",
            "2 x 2 = 4\n",
            "2 x 3 = 6\n",
            "2 x 4 = 8\n",
            "2 x 5 = 10\n",
            "2 x 6 = 12\n",
            "2 x 7 = 14\n",
            "2 x 8 = 16\n",
            "2 x 9 = 18\n",
            "2 x 10 = 20\n",
            "Tabuada do 3\n",
            "3 x 1 = 3\n",
            "3 x 2 = 6\n",
            "3 x 3 = 9\n",
            "3 x 4 = 12\n",
            "3 x 5 = 15\n",
            "3 x 6 = 18\n",
            "3 x 7 = 21\n",
            "3 x 8 = 24\n",
            "3 x 9 = 27\n",
            "3 x 10 = 30\n",
            "Tabuada do 4\n",
            "4 x 1 = 4\n",
            "4 x 2 = 8\n",
            "4 x 3 = 12\n",
            "4 x 4 = 16\n",
            "4 x 5 = 20\n",
            "4 x 6 = 24\n",
            "4 x 7 = 28\n",
            "4 x 8 = 32\n",
            "4 x 9 = 36\n",
            "4 x 10 = 40\n",
            "Tabuada do 5\n",
            "5 x 1 = 5\n",
            "5 x 2 = 10\n",
            "5 x 3 = 15\n",
            "5 x 4 = 20\n",
            "5 x 5 = 25\n",
            "5 x 6 = 30\n",
            "5 x 7 = 35\n",
            "5 x 8 = 40\n",
            "5 x 9 = 45\n",
            "5 x 10 = 50\n",
            "Tabuada do 6\n",
            "6 x 1 = 6\n",
            "6 x 2 = 12\n",
            "6 x 3 = 18\n",
            "6 x 4 = 24\n",
            "6 x 5 = 30\n",
            "6 x 6 = 36\n",
            "6 x 7 = 42\n",
            "6 x 8 = 48\n",
            "6 x 9 = 54\n",
            "6 x 10 = 60\n",
            "Tabuada do 7\n",
            "7 x 1 = 7\n",
            "7 x 2 = 14\n",
            "7 x 3 = 21\n",
            "7 x 4 = 28\n",
            "7 x 5 = 35\n",
            "7 x 6 = 42\n",
            "7 x 7 = 49\n",
            "7 x 8 = 56\n",
            "7 x 9 = 63\n",
            "7 x 10 = 70\n",
            "Tabuada do 8\n",
            "8 x 1 = 8\n",
            "8 x 2 = 16\n",
            "8 x 3 = 24\n",
            "8 x 4 = 32\n",
            "8 x 5 = 40\n",
            "8 x 6 = 48\n",
            "8 x 7 = 56\n",
            "8 x 8 = 64\n",
            "8 x 9 = 72\n",
            "8 x 10 = 80\n",
            "Tabuada do 9\n",
            "9 x 1 = 9\n",
            "9 x 2 = 18\n",
            "9 x 3 = 27\n",
            "9 x 4 = 36\n",
            "9 x 5 = 45\n",
            "9 x 6 = 54\n",
            "9 x 7 = 63\n",
            "9 x 8 = 72\n",
            "9 x 9 = 81\n",
            "9 x 10 = 90\n",
            "Tabuada do 10\n",
            "10 x 1 = 10\n",
            "10 x 2 = 20\n",
            "10 x 3 = 30\n",
            "10 x 4 = 40\n",
            "10 x 5 = 50\n",
            "10 x 6 = 60\n",
            "10 x 7 = 70\n",
            "10 x 8 = 80\n",
            "10 x 9 = 90\n",
            "10 x 10 = 100\n"
          ]
        }
      ]
    },
    {
      "cell_type": "code",
      "source": [
        "# resolvendo com 2 for\n",
        "for tabuada in range(1,11,1):\n",
        "    print('Tabuada do {}:'.format(tabuada))\n",
        "    for i in range(1, 11, 1):\n",
        "        print('{} x {} = {}'.format(tabuada, i, tabuada * i))"
      ],
      "metadata": {
        "colab": {
          "base_uri": "https://localhost:8080/"
        },
        "id": "j1AW18uNojzq",
        "outputId": "5e5d7341-c4c5-4dfe-8403-aa9bfdc1861f"
      },
      "execution_count": 5,
      "outputs": [
        {
          "output_type": "stream",
          "name": "stdout",
          "text": [
            "Tabuada do 1:\n",
            "1 x 1 = 1\n",
            "1 x 2 = 2\n",
            "1 x 3 = 3\n",
            "1 x 4 = 4\n",
            "1 x 5 = 5\n",
            "1 x 6 = 6\n",
            "1 x 7 = 7\n",
            "1 x 8 = 8\n",
            "1 x 9 = 9\n",
            "1 x 10 = 10\n",
            "Tabuada do 2:\n",
            "2 x 1 = 2\n",
            "2 x 2 = 4\n",
            "2 x 3 = 6\n",
            "2 x 4 = 8\n",
            "2 x 5 = 10\n",
            "2 x 6 = 12\n",
            "2 x 7 = 14\n",
            "2 x 8 = 16\n",
            "2 x 9 = 18\n",
            "2 x 10 = 20\n",
            "Tabuada do 3:\n",
            "3 x 1 = 3\n",
            "3 x 2 = 6\n",
            "3 x 3 = 9\n",
            "3 x 4 = 12\n",
            "3 x 5 = 15\n",
            "3 x 6 = 18\n",
            "3 x 7 = 21\n",
            "3 x 8 = 24\n",
            "3 x 9 = 27\n",
            "3 x 10 = 30\n",
            "Tabuada do 4:\n",
            "4 x 1 = 4\n",
            "4 x 2 = 8\n",
            "4 x 3 = 12\n",
            "4 x 4 = 16\n",
            "4 x 5 = 20\n",
            "4 x 6 = 24\n",
            "4 x 7 = 28\n",
            "4 x 8 = 32\n",
            "4 x 9 = 36\n",
            "4 x 10 = 40\n",
            "Tabuada do 5:\n",
            "5 x 1 = 5\n",
            "5 x 2 = 10\n",
            "5 x 3 = 15\n",
            "5 x 4 = 20\n",
            "5 x 5 = 25\n",
            "5 x 6 = 30\n",
            "5 x 7 = 35\n",
            "5 x 8 = 40\n",
            "5 x 9 = 45\n",
            "5 x 10 = 50\n",
            "Tabuada do 6:\n",
            "6 x 1 = 6\n",
            "6 x 2 = 12\n",
            "6 x 3 = 18\n",
            "6 x 4 = 24\n",
            "6 x 5 = 30\n",
            "6 x 6 = 36\n",
            "6 x 7 = 42\n",
            "6 x 8 = 48\n",
            "6 x 9 = 54\n",
            "6 x 10 = 60\n",
            "Tabuada do 7:\n",
            "7 x 1 = 7\n",
            "7 x 2 = 14\n",
            "7 x 3 = 21\n",
            "7 x 4 = 28\n",
            "7 x 5 = 35\n",
            "7 x 6 = 42\n",
            "7 x 7 = 49\n",
            "7 x 8 = 56\n",
            "7 x 9 = 63\n",
            "7 x 10 = 70\n",
            "Tabuada do 8:\n",
            "8 x 1 = 8\n",
            "8 x 2 = 16\n",
            "8 x 3 = 24\n",
            "8 x 4 = 32\n",
            "8 x 5 = 40\n",
            "8 x 6 = 48\n",
            "8 x 7 = 56\n",
            "8 x 8 = 64\n",
            "8 x 9 = 72\n",
            "8 x 10 = 80\n",
            "Tabuada do 9:\n",
            "9 x 1 = 9\n",
            "9 x 2 = 18\n",
            "9 x 3 = 27\n",
            "9 x 4 = 36\n",
            "9 x 5 = 45\n",
            "9 x 6 = 54\n",
            "9 x 7 = 63\n",
            "9 x 8 = 72\n",
            "9 x 9 = 81\n",
            "9 x 10 = 90\n",
            "Tabuada do 10:\n",
            "10 x 1 = 10\n",
            "10 x 2 = 20\n",
            "10 x 3 = 30\n",
            "10 x 4 = 40\n",
            "10 x 5 = 50\n",
            "10 x 6 = 60\n",
            "10 x 7 = 70\n",
            "10 x 8 = 80\n",
            "10 x 9 = 90\n",
            "10 x 10 = 100\n"
          ]
        }
      ]
    },
    {
      "cell_type": "code",
      "source": [
        "# resolvendo com while + for\n",
        "tabuada = 1\n",
        "while tabuada <= 10:\n",
        "    print('Tabuada do {}:'.format(tabuada))\n",
        "    for i in range(1, 11, 1):\n",
        "        print('{} x {} = {}'.format(tabuada, i, tabuada * i))\n",
        "    tabuada +=1"
      ],
      "metadata": {
        "colab": {
          "base_uri": "https://localhost:8080/"
        },
        "id": "4u4_74Nqo885",
        "outputId": "649937c4-b2df-464b-c904-21378acdb3d7"
      },
      "execution_count": 6,
      "outputs": [
        {
          "output_type": "stream",
          "name": "stdout",
          "text": [
            "Tabuada do 1:\n",
            "1 x 1 = 1\n",
            "1 x 2 = 2\n",
            "1 x 3 = 3\n",
            "1 x 4 = 4\n",
            "1 x 5 = 5\n",
            "1 x 6 = 6\n",
            "1 x 7 = 7\n",
            "1 x 8 = 8\n",
            "1 x 9 = 9\n",
            "1 x 10 = 10\n",
            "Tabuada do 2:\n",
            "2 x 1 = 2\n",
            "2 x 2 = 4\n",
            "2 x 3 = 6\n",
            "2 x 4 = 8\n",
            "2 x 5 = 10\n",
            "2 x 6 = 12\n",
            "2 x 7 = 14\n",
            "2 x 8 = 16\n",
            "2 x 9 = 18\n",
            "2 x 10 = 20\n",
            "Tabuada do 3:\n",
            "3 x 1 = 3\n",
            "3 x 2 = 6\n",
            "3 x 3 = 9\n",
            "3 x 4 = 12\n",
            "3 x 5 = 15\n",
            "3 x 6 = 18\n",
            "3 x 7 = 21\n",
            "3 x 8 = 24\n",
            "3 x 9 = 27\n",
            "3 x 10 = 30\n",
            "Tabuada do 4:\n",
            "4 x 1 = 4\n",
            "4 x 2 = 8\n",
            "4 x 3 = 12\n",
            "4 x 4 = 16\n",
            "4 x 5 = 20\n",
            "4 x 6 = 24\n",
            "4 x 7 = 28\n",
            "4 x 8 = 32\n",
            "4 x 9 = 36\n",
            "4 x 10 = 40\n",
            "Tabuada do 5:\n",
            "5 x 1 = 5\n",
            "5 x 2 = 10\n",
            "5 x 3 = 15\n",
            "5 x 4 = 20\n",
            "5 x 5 = 25\n",
            "5 x 6 = 30\n",
            "5 x 7 = 35\n",
            "5 x 8 = 40\n",
            "5 x 9 = 45\n",
            "5 x 10 = 50\n",
            "Tabuada do 6:\n",
            "6 x 1 = 6\n",
            "6 x 2 = 12\n",
            "6 x 3 = 18\n",
            "6 x 4 = 24\n",
            "6 x 5 = 30\n",
            "6 x 6 = 36\n",
            "6 x 7 = 42\n",
            "6 x 8 = 48\n",
            "6 x 9 = 54\n",
            "6 x 10 = 60\n",
            "Tabuada do 7:\n",
            "7 x 1 = 7\n",
            "7 x 2 = 14\n",
            "7 x 3 = 21\n",
            "7 x 4 = 28\n",
            "7 x 5 = 35\n",
            "7 x 6 = 42\n",
            "7 x 7 = 49\n",
            "7 x 8 = 56\n",
            "7 x 9 = 63\n",
            "7 x 10 = 70\n",
            "Tabuada do 8:\n",
            "8 x 1 = 8\n",
            "8 x 2 = 16\n",
            "8 x 3 = 24\n",
            "8 x 4 = 32\n",
            "8 x 5 = 40\n",
            "8 x 6 = 48\n",
            "8 x 7 = 56\n",
            "8 x 8 = 64\n",
            "8 x 9 = 72\n",
            "8 x 10 = 80\n",
            "Tabuada do 9:\n",
            "9 x 1 = 9\n",
            "9 x 2 = 18\n",
            "9 x 3 = 27\n",
            "9 x 4 = 36\n",
            "9 x 5 = 45\n",
            "9 x 6 = 54\n",
            "9 x 7 = 63\n",
            "9 x 8 = 72\n",
            "9 x 9 = 81\n",
            "9 x 10 = 90\n",
            "Tabuada do 10:\n",
            "10 x 1 = 10\n",
            "10 x 2 = 20\n",
            "10 x 3 = 30\n",
            "10 x 4 = 40\n",
            "10 x 5 = 50\n",
            "10 x 6 = 60\n",
            "10 x 7 = 70\n",
            "10 x 8 = 80\n",
            "10 x 9 = 90\n",
            "10 x 10 = 100\n"
          ]
        }
      ]
    }
  ]
}